{
  "cells": [
    {
      "cell_type": "markdown",
      "metadata": {},
      "source": [
        "#Weather Prediction System using Bayesian Networks\n",
        "Assignment Objective: Predict weather conditions based on past data points\n",
        "\n",
        "Made by:\n",
        "- EL YOUSFI-ALAOUI Mohammed\n",
        "- El Ajjouri Safaa\n",
        "- Tlemcani chayma\n",
        "- Motassim ahmed taha"
      ]
    },
    {
      "cell_type": "code",
      "execution_count": 1,
      "metadata": {
        "vscode": {
          "languageId": "bat"
        }
      },
      "outputs": [
        {
          "name": "stdout",
          "output_type": "stream",
          "text": [
            "Collecting pgmpy (from -r requirements.txt (line 1))\n",
            "  Using cached pgmpy-0.1.24-py3-none-any.whl.metadata (6.3 kB)\n",
            "Requirement already satisfied: pandas in c:\\users\\tmmot\\appdata\\local\\packages\\pythonsoftwarefoundation.python.3.9_qbz5n2kfra8p0\\localcache\\local-packages\\python39\\site-packages (from -r requirements.txt (line 2)) (2.1.4)\n",
            "Requirement already satisfied: numpy in c:\\users\\tmmot\\appdata\\local\\packages\\pythonsoftwarefoundation.python.3.9_qbz5n2kfra8p0\\localcache\\local-packages\\python39\\site-packages (from -r requirements.txt (line 3)) (1.26.2)\n",
            "Collecting seaborn (from -r requirements.txt (line 4))\n",
            "  Downloading seaborn-0.13.2-py3-none-any.whl.metadata (5.4 kB)\n",
            "Collecting matplotlib (from -r requirements.txt (line 5))\n",
            "  Downloading matplotlib-3.8.2-cp39-cp39-win_amd64.whl.metadata (5.9 kB)\n",
            "Requirement already satisfied: networkx in c:\\users\\tmmot\\appdata\\local\\packages\\pythonsoftwarefoundation.python.3.9_qbz5n2kfra8p0\\localcache\\local-packages\\python39\\site-packages (from -r requirements.txt (line 6)) (3.2.1)\n",
            "Requirement already satisfied: scikit-learn in c:\\users\\tmmot\\appdata\\local\\packages\\pythonsoftwarefoundation.python.3.9_qbz5n2kfra8p0\\localcache\\local-packages\\python39\\site-packages (from -r requirements.txt (line 7)) (1.4.0)\n",
            "Requirement already satisfied: scipy in c:\\users\\tmmot\\appdata\\local\\packages\\pythonsoftwarefoundation.python.3.9_qbz5n2kfra8p0\\localcache\\local-packages\\python39\\site-packages (from pgmpy->-r requirements.txt (line 1)) (1.12.0)\n",
            "Requirement already satisfied: pyparsing in c:\\users\\tmmot\\appdata\\local\\packages\\pythonsoftwarefoundation.python.3.9_qbz5n2kfra8p0\\localcache\\local-packages\\python39\\site-packages (from pgmpy->-r requirements.txt (line 1)) (3.1.1)\n",
            "Requirement already satisfied: torch in c:\\users\\tmmot\\appdata\\local\\packages\\pythonsoftwarefoundation.python.3.9_qbz5n2kfra8p0\\localcache\\local-packages\\python39\\site-packages (from pgmpy->-r requirements.txt (line 1)) (2.1.2)\n",
            "Requirement already satisfied: statsmodels in c:\\users\\tmmot\\appdata\\local\\packages\\pythonsoftwarefoundation.python.3.9_qbz5n2kfra8p0\\localcache\\local-packages\\python39\\site-packages (from pgmpy->-r requirements.txt (line 1)) (0.14.1)\n",
            "Requirement already satisfied: tqdm in c:\\users\\tmmot\\appdata\\local\\packages\\pythonsoftwarefoundation.python.3.9_qbz5n2kfra8p0\\localcache\\local-packages\\python39\\site-packages (from pgmpy->-r requirements.txt (line 1)) (4.66.1)\n",
            "Requirement already satisfied: joblib in c:\\users\\tmmot\\appdata\\local\\packages\\pythonsoftwarefoundation.python.3.9_qbz5n2kfra8p0\\localcache\\local-packages\\python39\\site-packages (from pgmpy->-r requirements.txt (line 1)) (1.3.2)\n",
            "Requirement already satisfied: opt-einsum in c:\\users\\tmmot\\appdata\\local\\packages\\pythonsoftwarefoundation.python.3.9_qbz5n2kfra8p0\\localcache\\local-packages\\python39\\site-packages (from pgmpy->-r requirements.txt (line 1)) (3.3.0)\n",
            "Requirement already satisfied: python-dateutil>=2.8.2 in c:\\users\\tmmot\\appdata\\local\\packages\\pythonsoftwarefoundation.python.3.9_qbz5n2kfra8p0\\localcache\\local-packages\\python39\\site-packages (from pandas->-r requirements.txt (line 2)) (2.8.2)\n",
            "Requirement already satisfied: pytz>=2020.1 in c:\\users\\tmmot\\appdata\\local\\packages\\pythonsoftwarefoundation.python.3.9_qbz5n2kfra8p0\\localcache\\local-packages\\python39\\site-packages (from pandas->-r requirements.txt (line 2)) (2023.3.post1)\n",
            "Requirement already satisfied: tzdata>=2022.1 in c:\\users\\tmmot\\appdata\\local\\packages\\pythonsoftwarefoundation.python.3.9_qbz5n2kfra8p0\\localcache\\local-packages\\python39\\site-packages (from pandas->-r requirements.txt (line 2)) (2023.4)\n",
            "Collecting contourpy>=1.0.1 (from matplotlib->-r requirements.txt (line 5))\n",
            "  Downloading contourpy-1.2.0-cp39-cp39-win_amd64.whl.metadata (5.8 kB)\n",
            "Collecting cycler>=0.10 (from matplotlib->-r requirements.txt (line 5))\n",
            "  Downloading cycler-0.12.1-py3-none-any.whl.metadata (3.8 kB)\n",
            "Collecting fonttools>=4.22.0 (from matplotlib->-r requirements.txt (line 5))\n",
            "  Downloading fonttools-4.48.1-cp39-cp39-win_amd64.whl.metadata (162 kB)\n",
            "     ---------------------------------------- 0.0/162.2 kB ? eta -:--:--\n",
            "     -------------- ------------------------ 61.4/162.2 kB 1.7 MB/s eta 0:00:01\n",
            "     ----------------------------------- -- 153.6/162.2 kB 1.8 MB/s eta 0:00:01\n",
            "     -------------------------------------- 162.2/162.2 kB 1.9 MB/s eta 0:00:00\n",
            "Collecting kiwisolver>=1.3.1 (from matplotlib->-r requirements.txt (line 5))\n",
            "  Downloading kiwisolver-1.4.5-cp39-cp39-win_amd64.whl.metadata (6.5 kB)\n",
            "Requirement already satisfied: packaging>=20.0 in c:\\users\\tmmot\\appdata\\local\\packages\\pythonsoftwarefoundation.python.3.9_qbz5n2kfra8p0\\localcache\\local-packages\\python39\\site-packages (from matplotlib->-r requirements.txt (line 5)) (23.2)\n",
            "Requirement already satisfied: pillow>=8 in c:\\users\\tmmot\\appdata\\local\\packages\\pythonsoftwarefoundation.python.3.9_qbz5n2kfra8p0\\localcache\\local-packages\\python39\\site-packages (from matplotlib->-r requirements.txt (line 5)) (10.1.0)\n",
            "Collecting importlib-resources>=3.2.0 (from matplotlib->-r requirements.txt (line 5))\n",
            "  Downloading importlib_resources-6.1.1-py3-none-any.whl.metadata (4.1 kB)\n",
            "Requirement already satisfied: threadpoolctl>=2.0.0 in c:\\users\\tmmot\\appdata\\local\\packages\\pythonsoftwarefoundation.python.3.9_qbz5n2kfra8p0\\localcache\\local-packages\\python39\\site-packages (from scikit-learn->-r requirements.txt (line 7)) (3.2.0)\n",
            "Requirement already satisfied: zipp>=3.1.0 in c:\\users\\tmmot\\appdata\\local\\packages\\pythonsoftwarefoundation.python.3.9_qbz5n2kfra8p0\\localcache\\local-packages\\python39\\site-packages (from importlib-resources>=3.2.0->matplotlib->-r requirements.txt (line 5)) (3.17.0)\n",
            "Requirement already satisfied: six>=1.5 in c:\\users\\tmmot\\appdata\\local\\packages\\pythonsoftwarefoundation.python.3.9_qbz5n2kfra8p0\\localcache\\local-packages\\python39\\site-packages (from python-dateutil>=2.8.2->pandas->-r requirements.txt (line 2)) (1.16.0)\n",
            "Requirement already satisfied: patsy>=0.5.4 in c:\\users\\tmmot\\appdata\\local\\packages\\pythonsoftwarefoundation.python.3.9_qbz5n2kfra8p0\\localcache\\local-packages\\python39\\site-packages (from statsmodels->pgmpy->-r requirements.txt (line 1)) (0.5.6)\n",
            "Requirement already satisfied: filelock in c:\\users\\tmmot\\appdata\\local\\packages\\pythonsoftwarefoundation.python.3.9_qbz5n2kfra8p0\\localcache\\local-packages\\python39\\site-packages (from torch->pgmpy->-r requirements.txt (line 1)) (3.13.1)\n",
            "Requirement already satisfied: typing-extensions in c:\\users\\tmmot\\appdata\\local\\packages\\pythonsoftwarefoundation.python.3.9_qbz5n2kfra8p0\\localcache\\local-packages\\python39\\site-packages (from torch->pgmpy->-r requirements.txt (line 1)) (4.9.0)\n",
            "Requirement already satisfied: sympy in c:\\users\\tmmot\\appdata\\local\\packages\\pythonsoftwarefoundation.python.3.9_qbz5n2kfra8p0\\localcache\\local-packages\\python39\\site-packages (from torch->pgmpy->-r requirements.txt (line 1)) (1.12)\n",
            "Requirement already satisfied: jinja2 in c:\\users\\tmmot\\appdata\\local\\packages\\pythonsoftwarefoundation.python.3.9_qbz5n2kfra8p0\\localcache\\local-packages\\python39\\site-packages (from torch->pgmpy->-r requirements.txt (line 1)) (3.1.2)\n",
            "Requirement already satisfied: fsspec in c:\\users\\tmmot\\appdata\\local\\packages\\pythonsoftwarefoundation.python.3.9_qbz5n2kfra8p0\\localcache\\local-packages\\python39\\site-packages (from torch->pgmpy->-r requirements.txt (line 1)) (2023.10.0)\n",
            "Requirement already satisfied: colorama in c:\\users\\tmmot\\appdata\\local\\packages\\pythonsoftwarefoundation.python.3.9_qbz5n2kfra8p0\\localcache\\local-packages\\python39\\site-packages (from tqdm->pgmpy->-r requirements.txt (line 1)) (0.4.6)\n",
            "Requirement already satisfied: MarkupSafe>=2.0 in c:\\users\\tmmot\\appdata\\local\\packages\\pythonsoftwarefoundation.python.3.9_qbz5n2kfra8p0\\localcache\\local-packages\\python39\\site-packages (from jinja2->torch->pgmpy->-r requirements.txt (line 1)) (2.1.3)\n",
            "Requirement already satisfied: mpmath>=0.19 in c:\\users\\tmmot\\appdata\\local\\packages\\pythonsoftwarefoundation.python.3.9_qbz5n2kfra8p0\\localcache\\local-packages\\python39\\site-packages (from sympy->torch->pgmpy->-r requirements.txt (line 1)) (1.3.0)\n",
            "Using cached pgmpy-0.1.24-py3-none-any.whl (2.0 MB)\n",
            "Downloading seaborn-0.13.2-py3-none-any.whl (294 kB)\n",
            "   ---------------------------------------- 0.0/294.9 kB ? eta -:--:--\n",
            "   --------------------------------- ------ 245.8/294.9 kB 7.6 MB/s eta 0:00:01\n",
            "   ---------------------------------------- 294.9/294.9 kB 9.2 MB/s eta 0:00:00\n",
            "Downloading matplotlib-3.8.2-cp39-cp39-win_amd64.whl (7.6 MB)\n",
            "   ---------------------------------------- 0.0/7.6 MB ? eta -:--:--\n",
            "   --- ------------------------------------ 0.7/7.6 MB 13.7 MB/s eta 0:00:01\n",
            "   ------------ --------------------------- 2.4/7.6 MB 25.2 MB/s eta 0:00:01\n",
            "   -------------------------- ------------- 5.1/7.6 MB 36.2 MB/s eta 0:00:01\n",
            "   ------------------------------ --------- 5.8/7.6 MB 37.4 MB/s eta 0:00:01\n",
            "   ---------------------------------- ----- 6.6/7.6 MB 27.9 MB/s eta 0:00:01\n",
            "   ---------------------------------------  7.6/7.6 MB 28.7 MB/s eta 0:00:01\n",
            "   ---------------------------------------- 7.6/7.6 MB 28.7 MB/s eta 0:00:00\n",
            "Downloading contourpy-1.2.0-cp39-cp39-win_amd64.whl (181 kB)\n",
            "   ---------------------------------------- 0.0/181.9 kB ? eta -:--:--\n",
            "   --------------------------------------- 181.9/181.9 kB 11.4 MB/s eta 0:00:00\n",
            "Downloading cycler-0.12.1-py3-none-any.whl (8.3 kB)\n",
            "Downloading fonttools-4.48.1-cp39-cp39-win_amd64.whl (2.2 MB)\n",
            "   ---------------------------------------- 0.0/2.2 MB ? eta -:--:--\n",
            "   ---------------------------------------- 2.2/2.2 MB 70.0 MB/s eta 0:00:00\n",
            "Downloading importlib_resources-6.1.1-py3-none-any.whl (33 kB)\n",
            "Downloading kiwisolver-1.4.5-cp39-cp39-win_amd64.whl (56 kB)\n",
            "   ---------------------------------------- 0.0/56.2 kB ? eta -:--:--\n",
            "   ---------------------------------------- 56.2/56.2 kB ? eta 0:00:00\n",
            "Installing collected packages: kiwisolver, importlib-resources, fonttools, cycler, contourpy, matplotlib, seaborn, pgmpy\n",
            "Successfully installed contourpy-1.2.0 cycler-0.12.1 fonttools-4.48.1 importlib-resources-6.1.1 kiwisolver-1.4.5 matplotlib-3.8.2 pgmpy-0.1.24 seaborn-0.13.2\n"
          ]
        },
        {
          "name": "stderr",
          "output_type": "stream",
          "text": [
            "\n",
            "[notice] A new release of pip is available: 23.3.2 -> 24.0\n",
            "[notice] To update, run: C:\\Users\\tmmot\\AppData\\Local\\Microsoft\\WindowsApps\\PythonSoftwareFoundation.Python.3.9_qbz5n2kfra8p0\\python.exe -m pip install --upgrade pip\n"
          ]
        }
      ],
      "source": [
        "!pip install -r requirements.txt"
      ]
    },
    {
      "cell_type": "code",
      "execution_count": 3,
      "metadata": {},
      "outputs": [],
      "source": [
        "import numpy as np\n",
        "import pandas as pd\n",
        "import seaborn as sns\n",
        "import matplotlib.pyplot as plt\n",
        "import networkx as nx\n",
        "from pgmpy.models import BayesianNetwork\n",
        "from pgmpy.estimators import HillClimbSearch, BicScore\n"
      ]
    }
  ],
  "metadata": {
    "colab": {
      "authorship_tag": "ABX9TyMnd1DaQwONu+IxhDO42ih7",
      "include_colab_link": true,
      "provenance": []
    },
    "kernelspec": {
      "display_name": "Python 3",
      "name": "python3"
    },
    "language_info": {
      "codemirror_mode": {
        "name": "ipython",
        "version": 3
      },
      "file_extension": ".py",
      "mimetype": "text/x-python",
      "name": "python",
      "nbconvert_exporter": "python",
      "pygments_lexer": "ipython3",
      "version": "3.9.13"
    }
  },
  "nbformat": 4,
  "nbformat_minor": 0
}
