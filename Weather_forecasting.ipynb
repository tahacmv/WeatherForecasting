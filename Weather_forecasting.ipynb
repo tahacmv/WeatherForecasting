{
  "cells": [
    {
      "cell_type": "code",
      "execution_count": 1,
      "metadata": {
        "vscode": {
          "languageId": "bat"
        }
      },
      "outputs": [
        {
          "name": "stdout",
          "output_type": "stream",
          "text": [
            "Defaulting to user installation because normal site-packages is not writeable\n",
            "Collecting hmmlearn\n",
            "  Downloading hmmlearn-0.3.0-cp39-cp39-win_amd64.whl (123 kB)\n",
            "     -------------------------------------- 123.8/123.8 kB 1.8 MB/s eta 0:00:00\n",
            "Requirement already satisfied: scikit-learn!=0.22.0,>=0.16 in c:\\users\\ahmed taha\\appdata\\roaming\\python\\python39\\site-packages (from hmmlearn) (1.1.3)\n",
            "Requirement already satisfied: numpy>=1.10 in c:\\users\\ahmed taha\\appdata\\roaming\\python\\python39\\site-packages (from hmmlearn) (1.22.4)\n",
            "Requirement already satisfied: scipy>=0.19 in c:\\users\\ahmed taha\\appdata\\roaming\\python\\python39\\site-packages (from hmmlearn) (1.7.2)\n",
            "Requirement already satisfied: joblib>=1.0.0 in c:\\users\\ahmed taha\\appdata\\roaming\\python\\python39\\site-packages (from scikit-learn!=0.22.0,>=0.16->hmmlearn) (1.3.2)\n",
            "Requirement already satisfied: threadpoolctl>=2.0.0 in c:\\users\\ahmed taha\\appdata\\roaming\\python\\python39\\site-packages (from scikit-learn!=0.22.0,>=0.16->hmmlearn) (3.1.0)\n",
            "Installing collected packages: hmmlearn\n",
            "Successfully installed hmmlearn-0.3.0\n"
          ]
        },
        {
          "name": "stderr",
          "output_type": "stream",
          "text": [
            "WARNING: Ignoring invalid distribution -ffi (c:\\users\\ahmed taha\\appdata\\roaming\\python\\python39\\site-packages)\n",
            "WARNING: Ignoring invalid distribution -ffi (c:\\users\\ahmed taha\\appdata\\roaming\\python\\python39\\site-packages)\n",
            "WARNING: Ignoring invalid distribution -ffi (c:\\users\\ahmed taha\\appdata\\roaming\\python\\python39\\site-packages)\n",
            "WARNING: Ignoring invalid distribution -ffi (c:\\users\\ahmed taha\\appdata\\roaming\\python\\python39\\site-packages)\n",
            "WARNING: Ignoring invalid distribution -ffi (c:\\users\\ahmed taha\\appdata\\roaming\\python\\python39\\site-packages)\n",
            "WARNING: Ignoring invalid distribution -ffi (c:\\users\\ahmed taha\\appdata\\roaming\\python\\python39\\site-packages)\n",
            "WARNING: Ignoring invalid distribution -ffi (c:\\users\\ahmed taha\\appdata\\roaming\\python\\python39\\site-packages)\n",
            "WARNING: There was an error checking the latest version of pip.\n"
          ]
        }
      ],
      "source": [
        "!pip install hmmlearn"
      ]
    },
    {
      "cell_type": "code",
      "execution_count": 2,
      "metadata": {},
      "outputs": [],
      "source": [
        "import numpy as np\n",
        "import pandas as pd"
      ]
    },
    {
      "cell_type": "code",
      "execution_count": 3,
      "metadata": {},
      "outputs": [],
      "source": [
        "df = pd.read_csv('weatherHistory.csv')\n",
        "#setting the dataframe index\n",
        "df.set_index(\"Formatted Date\", inplace=True)"
      ]
    },
    {
      "cell_type": "code",
      "execution_count": 4,
      "metadata": {},
      "outputs": [
        {
          "data": {
            "text/html": [
              "<div>\n",
              "<style scoped>\n",
              "    .dataframe tbody tr th:only-of-type {\n",
              "        vertical-align: middle;\n",
              "    }\n",
              "\n",
              "    .dataframe tbody tr th {\n",
              "        vertical-align: top;\n",
              "    }\n",
              "\n",
              "    .dataframe thead th {\n",
              "        text-align: right;\n",
              "    }\n",
              "</style>\n",
              "<table border=\"1\" class=\"dataframe\">\n",
              "  <thead>\n",
              "    <tr style=\"text-align: right;\">\n",
              "      <th></th>\n",
              "      <th>Summary</th>\n",
              "      <th>Precip Type</th>\n",
              "      <th>Temperature (C)</th>\n",
              "      <th>Apparent Temperature (C)</th>\n",
              "      <th>Humidity</th>\n",
              "      <th>Wind Speed (km/h)</th>\n",
              "      <th>Wind Bearing (degrees)</th>\n",
              "      <th>Visibility (km)</th>\n",
              "      <th>Loud Cover</th>\n",
              "      <th>Pressure (millibars)</th>\n",
              "      <th>Daily Summary</th>\n",
              "    </tr>\n",
              "    <tr>\n",
              "      <th>Formatted Date</th>\n",
              "      <th></th>\n",
              "      <th></th>\n",
              "      <th></th>\n",
              "      <th></th>\n",
              "      <th></th>\n",
              "      <th></th>\n",
              "      <th></th>\n",
              "      <th></th>\n",
              "      <th></th>\n",
              "      <th></th>\n",
              "      <th></th>\n",
              "    </tr>\n",
              "  </thead>\n",
              "  <tbody>\n",
              "    <tr>\n",
              "      <th>2006-04-01 00:00:00.000 +0200</th>\n",
              "      <td>Partly Cloudy</td>\n",
              "      <td>rain</td>\n",
              "      <td>9.472222</td>\n",
              "      <td>7.388889</td>\n",
              "      <td>0.89</td>\n",
              "      <td>14.1197</td>\n",
              "      <td>251.0</td>\n",
              "      <td>15.8263</td>\n",
              "      <td>0.0</td>\n",
              "      <td>1015.13</td>\n",
              "      <td>Partly cloudy throughout the day.</td>\n",
              "    </tr>\n",
              "    <tr>\n",
              "      <th>2006-04-01 01:00:00.000 +0200</th>\n",
              "      <td>Partly Cloudy</td>\n",
              "      <td>rain</td>\n",
              "      <td>9.355556</td>\n",
              "      <td>7.227778</td>\n",
              "      <td>0.86</td>\n",
              "      <td>14.2646</td>\n",
              "      <td>259.0</td>\n",
              "      <td>15.8263</td>\n",
              "      <td>0.0</td>\n",
              "      <td>1015.63</td>\n",
              "      <td>Partly cloudy throughout the day.</td>\n",
              "    </tr>\n",
              "    <tr>\n",
              "      <th>2006-04-01 02:00:00.000 +0200</th>\n",
              "      <td>Mostly Cloudy</td>\n",
              "      <td>rain</td>\n",
              "      <td>9.377778</td>\n",
              "      <td>9.377778</td>\n",
              "      <td>0.89</td>\n",
              "      <td>3.9284</td>\n",
              "      <td>204.0</td>\n",
              "      <td>14.9569</td>\n",
              "      <td>0.0</td>\n",
              "      <td>1015.94</td>\n",
              "      <td>Partly cloudy throughout the day.</td>\n",
              "    </tr>\n",
              "    <tr>\n",
              "      <th>2006-04-01 03:00:00.000 +0200</th>\n",
              "      <td>Partly Cloudy</td>\n",
              "      <td>rain</td>\n",
              "      <td>8.288889</td>\n",
              "      <td>5.944444</td>\n",
              "      <td>0.83</td>\n",
              "      <td>14.1036</td>\n",
              "      <td>269.0</td>\n",
              "      <td>15.8263</td>\n",
              "      <td>0.0</td>\n",
              "      <td>1016.41</td>\n",
              "      <td>Partly cloudy throughout the day.</td>\n",
              "    </tr>\n",
              "    <tr>\n",
              "      <th>2006-04-01 04:00:00.000 +0200</th>\n",
              "      <td>Mostly Cloudy</td>\n",
              "      <td>rain</td>\n",
              "      <td>8.755556</td>\n",
              "      <td>6.977778</td>\n",
              "      <td>0.83</td>\n",
              "      <td>11.0446</td>\n",
              "      <td>259.0</td>\n",
              "      <td>15.8263</td>\n",
              "      <td>0.0</td>\n",
              "      <td>1016.51</td>\n",
              "      <td>Partly cloudy throughout the day.</td>\n",
              "    </tr>\n",
              "  </tbody>\n",
              "</table>\n",
              "</div>"
            ],
            "text/plain": [
              "                                     Summary Precip Type  Temperature (C)  \\\n",
              "Formatted Date                                                              \n",
              "2006-04-01 00:00:00.000 +0200  Partly Cloudy        rain         9.472222   \n",
              "2006-04-01 01:00:00.000 +0200  Partly Cloudy        rain         9.355556   \n",
              "2006-04-01 02:00:00.000 +0200  Mostly Cloudy        rain         9.377778   \n",
              "2006-04-01 03:00:00.000 +0200  Partly Cloudy        rain         8.288889   \n",
              "2006-04-01 04:00:00.000 +0200  Mostly Cloudy        rain         8.755556   \n",
              "\n",
              "                               Apparent Temperature (C)  Humidity  \\\n",
              "Formatted Date                                                      \n",
              "2006-04-01 00:00:00.000 +0200                  7.388889      0.89   \n",
              "2006-04-01 01:00:00.000 +0200                  7.227778      0.86   \n",
              "2006-04-01 02:00:00.000 +0200                  9.377778      0.89   \n",
              "2006-04-01 03:00:00.000 +0200                  5.944444      0.83   \n",
              "2006-04-01 04:00:00.000 +0200                  6.977778      0.83   \n",
              "\n",
              "                               Wind Speed (km/h)  Wind Bearing (degrees)  \\\n",
              "Formatted Date                                                             \n",
              "2006-04-01 00:00:00.000 +0200            14.1197                   251.0   \n",
              "2006-04-01 01:00:00.000 +0200            14.2646                   259.0   \n",
              "2006-04-01 02:00:00.000 +0200             3.9284                   204.0   \n",
              "2006-04-01 03:00:00.000 +0200            14.1036                   269.0   \n",
              "2006-04-01 04:00:00.000 +0200            11.0446                   259.0   \n",
              "\n",
              "                               Visibility (km)  Loud Cover  \\\n",
              "Formatted Date                                               \n",
              "2006-04-01 00:00:00.000 +0200          15.8263         0.0   \n",
              "2006-04-01 01:00:00.000 +0200          15.8263         0.0   \n",
              "2006-04-01 02:00:00.000 +0200          14.9569         0.0   \n",
              "2006-04-01 03:00:00.000 +0200          15.8263         0.0   \n",
              "2006-04-01 04:00:00.000 +0200          15.8263         0.0   \n",
              "\n",
              "                               Pressure (millibars)  \\\n",
              "Formatted Date                                        \n",
              "2006-04-01 00:00:00.000 +0200               1015.13   \n",
              "2006-04-01 01:00:00.000 +0200               1015.63   \n",
              "2006-04-01 02:00:00.000 +0200               1015.94   \n",
              "2006-04-01 03:00:00.000 +0200               1016.41   \n",
              "2006-04-01 04:00:00.000 +0200               1016.51   \n",
              "\n",
              "                                                   Daily Summary  \n",
              "Formatted Date                                                    \n",
              "2006-04-01 00:00:00.000 +0200  Partly cloudy throughout the day.  \n",
              "2006-04-01 01:00:00.000 +0200  Partly cloudy throughout the day.  \n",
              "2006-04-01 02:00:00.000 +0200  Partly cloudy throughout the day.  \n",
              "2006-04-01 03:00:00.000 +0200  Partly cloudy throughout the day.  \n",
              "2006-04-01 04:00:00.000 +0200  Partly cloudy throughout the day.  "
            ]
          },
          "execution_count": 4,
          "metadata": {},
          "output_type": "execute_result"
        }
      ],
      "source": [
        "df.head()"
      ]
    },
    {
      "cell_type": "markdown",
      "metadata": {},
      "source": [
        "Pre processing\n",
        "Checking nas"
      ]
    },
    {
      "cell_type": "code",
      "execution_count": 6,
      "metadata": {},
      "outputs": [
        {
          "name": "stdout",
          "output_type": "stream",
          "text": [
            "Summary                       0\n",
            "Precip Type                 517\n",
            "Temperature (C)               0\n",
            "Apparent Temperature (C)      0\n",
            "Humidity                      0\n",
            "Wind Speed (km/h)             0\n",
            "Wind Bearing (degrees)        0\n",
            "Visibility (km)               0\n",
            "Loud Cover                    0\n",
            "Pressure (millibars)          0\n",
            "Daily Summary                 0\n",
            "dtype: int64\n",
            "96453\n"
          ]
        }
      ],
      "source": [
        "print(df.isnull().sum())\n",
        "print(len(df))\n",
        "#there are 517 null values in the Precip Type column\n",
        "#dropping the column\n",
        "df.drop('Precip Type', axis=1, inplace=True)"
      ]
    }
  ],
  "metadata": {
    "colab": {
      "authorship_tag": "ABX9TyMnd1DaQwONu+IxhDO42ih7",
      "include_colab_link": true,
      "provenance": []
    },
    "kernelspec": {
      "display_name": "Python 3",
      "name": "python3"
    },
    "language_info": {
      "codemirror_mode": {
        "name": "ipython",
        "version": 3
      },
      "file_extension": ".py",
      "mimetype": "text/x-python",
      "name": "python",
      "nbconvert_exporter": "python",
      "pygments_lexer": "ipython3",
      "version": "3.9.6"
    }
  },
  "nbformat": 4,
  "nbformat_minor": 0
}
