{
  "cells": [
    {
      "cell_type": "code",
      "execution_count": 1,
      "metadata": {
        "vscode": {
          "languageId": "bat"
        }
      },
      "outputs": [
        {
          "name": "stdout",
          "output_type": "stream",
          "text": [
            "Defaulting to user installation because normal site-packages is not writeable\n",
            "Collecting hmmlearn\n",
            "  Downloading hmmlearn-0.3.0-cp39-cp39-win_amd64.whl (123 kB)\n",
            "     -------------------------------------- 123.8/123.8 kB 1.8 MB/s eta 0:00:00\n",
            "Requirement already satisfied: scikit-learn!=0.22.0,>=0.16 in c:\\users\\ahmed taha\\appdata\\roaming\\python\\python39\\site-packages (from hmmlearn) (1.1.3)\n",
            "Requirement already satisfied: numpy>=1.10 in c:\\users\\ahmed taha\\appdata\\roaming\\python\\python39\\site-packages (from hmmlearn) (1.22.4)\n",
            "Requirement already satisfied: scipy>=0.19 in c:\\users\\ahmed taha\\appdata\\roaming\\python\\python39\\site-packages (from hmmlearn) (1.7.2)\n",
            "Requirement already satisfied: joblib>=1.0.0 in c:\\users\\ahmed taha\\appdata\\roaming\\python\\python39\\site-packages (from scikit-learn!=0.22.0,>=0.16->hmmlearn) (1.3.2)\n",
            "Requirement already satisfied: threadpoolctl>=2.0.0 in c:\\users\\ahmed taha\\appdata\\roaming\\python\\python39\\site-packages (from scikit-learn!=0.22.0,>=0.16->hmmlearn) (3.1.0)\n",
            "Installing collected packages: hmmlearn\n",
            "Successfully installed hmmlearn-0.3.0\n"
          ]
        },
        {
          "name": "stderr",
          "output_type": "stream",
          "text": [
            "WARNING: Ignoring invalid distribution -ffi (c:\\users\\ahmed taha\\appdata\\roaming\\python\\python39\\site-packages)\n",
            "WARNING: Ignoring invalid distribution -ffi (c:\\users\\ahmed taha\\appdata\\roaming\\python\\python39\\site-packages)\n",
            "WARNING: Ignoring invalid distribution -ffi (c:\\users\\ahmed taha\\appdata\\roaming\\python\\python39\\site-packages)\n",
            "WARNING: Ignoring invalid distribution -ffi (c:\\users\\ahmed taha\\appdata\\roaming\\python\\python39\\site-packages)\n",
            "WARNING: Ignoring invalid distribution -ffi (c:\\users\\ahmed taha\\appdata\\roaming\\python\\python39\\site-packages)\n",
            "WARNING: Ignoring invalid distribution -ffi (c:\\users\\ahmed taha\\appdata\\roaming\\python\\python39\\site-packages)\n",
            "WARNING: Ignoring invalid distribution -ffi (c:\\users\\ahmed taha\\appdata\\roaming\\python\\python39\\site-packages)\n",
            "WARNING: There was an error checking the latest version of pip.\n"
          ]
        }
      ],
      "source": [
        "!pip install hmmlearn"
      ]
    },
    {
      "cell_type": "code",
      "execution_count": null,
      "metadata": {},
      "outputs": [],
      "source": [
        "import numpy as np\n",
        "import pandas as pd"
      ]
    }
  ],
  "metadata": {
    "colab": {
      "authorship_tag": "ABX9TyMnd1DaQwONu+IxhDO42ih7",
      "include_colab_link": true,
      "provenance": []
    },
    "kernelspec": {
      "display_name": "Python 3",
      "name": "python3"
    },
    "language_info": {
      "codemirror_mode": {
        "name": "ipython",
        "version": 3
      },
      "file_extension": ".py",
      "mimetype": "text/x-python",
      "name": "python",
      "nbconvert_exporter": "python",
      "pygments_lexer": "ipython3",
      "version": "3.9.6"
    }
  },
  "nbformat": 4,
  "nbformat_minor": 0
}
